{
 "cells": [
  {
   "cell_type": "markdown",
   "metadata": {},
   "source": [
    "### Create training list and testing list"
   ]
  },
  {
   "cell_type": "code",
   "execution_count": null,
   "metadata": {},
   "outputs": [],
   "source": [
    "import glob, os\n",
    "strange = ['HIP_006', 'HIP_013', 'HIP_014', 'HIP_043', 'HIP_047', 'HIP_060']\n",
    "strange_paths = [os.path.join(\"Hippo_dataset_VGHTC_share\", s) for s in strange]\n",
    "patient_paths = glob.glob(os.path.join(\"Hippo_dataset_VGHTC_share\", \"HIP*\"))\n",
    "for sp in strange_paths:\n",
    "    patient_paths.remove(sp)\n",
    "\n",
    "length = len(patient_paths)\n",
    "train_lst = patient_paths[:int(length*0.8)]\n",
    "test_lst = patient_paths[int(length*0.8):]\n",
    "with open('trainList.txt', 'w') as f:\n",
    "    for line in train_lst:\n",
    "        name = line.split('/')[-1]\n",
    "        f.writelines(\"{}\\n\".format(name))\n",
    "with open('testList.txt', 'w') as f:\n",
    "    for line in test_lst:\n",
    "        name = line.split('/')[-1]\n",
    "        f.writelines(\"{}\\n\".format(name))"
   ]
  }
 ],
 "metadata": {
  "kernelspec": {
   "display_name": "Python 3",
   "language": "python",
   "name": "python3"
  },
  "language_info": {
   "codemirror_mode": {
    "name": "ipython",
    "version": 3
   },
   "file_extension": ".py",
   "mimetype": "text/x-python",
   "name": "python",
   "nbconvert_exporter": "python",
   "pygments_lexer": "ipython3",
   "version": "3.10.6"
  },
  "orig_nbformat": 4
 },
 "nbformat": 4,
 "nbformat_minor": 2
}
